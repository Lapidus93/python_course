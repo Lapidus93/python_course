{
 "cells": [
  {
   "cell_type": "code",
   "execution_count": 1,
   "metadata": {},
   "outputs": [
    {
     "name": "stdout",
     "output_type": "stream",
     "text": [
      "введи что-нибудьewrwrwer\n",
      "введи что-нибудьerwerwerwe\n",
      "введи что-нибудь\n"
     ]
    },
    {
     "data": {
      "text/plain": [
       "'функция работала 8 сек'"
      ]
     },
     "execution_count": 1,
     "metadata": {},
     "output_type": "execute_result"
    }
   ],
   "source": [
    "import time\n",
    "\n",
    "def funk():\n",
    "    spis = []\n",
    "    for i in range(3):\n",
    "        spis.append(input('введи что-нибудь'))\n",
    "    return spis\n",
    "\n",
    "def my_dec(f):\n",
    "    def wrapper():\n",
    "        time1 = time.time()\n",
    "        f()\n",
    "        time2 = time.time()\n",
    "        result = 'функция работала {} сек'.format((round(time2-time1)))\n",
    "        return result\n",
    "    return wrapper\n",
    "\n",
    "@my_dec\n",
    "def funk():\n",
    "    spis = []\n",
    "    for i in range(3):\n",
    "        spis.append(input('введи что-нибудь'))\n",
    "    return spis\n",
    "\n",
    "funk()"
   ]
  },
  {
   "cell_type": "code",
   "execution_count": 2,
   "metadata": {},
   "outputs": [
    {
     "name": "stdout",
     "output_type": "stream",
     "text": [
      "введи что-нибудьgfdgdfgdfg\n",
      "введи что-нибудьfdgfdgf\n",
      "введи что-нибудьfdg\n"
     ]
    },
    {
     "data": {
      "text/plain": [
       "'функция работала 4 сек'"
      ]
     },
     "execution_count": 2,
     "metadata": {},
     "output_type": "execute_result"
    }
   ],
   "source": [
    "funk()"
   ]
  },
  {
   "cell_type": "code",
   "execution_count": null,
   "metadata": {},
   "outputs": [],
   "source": []
  }
 ],
 "metadata": {
  "kernelspec": {
   "display_name": "Python 3",
   "language": "python",
   "name": "python3"
  },
  "language_info": {
   "codemirror_mode": {
    "name": "ipython",
    "version": 3
   },
   "file_extension": ".py",
   "mimetype": "text/x-python",
   "name": "python",
   "nbconvert_exporter": "python",
   "pygments_lexer": "ipython3",
   "version": "3.7.1"
  }
 },
 "nbformat": 4,
 "nbformat_minor": 2
}
